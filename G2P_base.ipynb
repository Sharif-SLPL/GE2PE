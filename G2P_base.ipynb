{
  "nbformat": 4,
  "nbformat_minor": 0,
  "metadata": {
    "colab": {
      "provenance": []
    },
    "kernelspec": {
      "name": "python3",
      "display_name": "Python 3"
    },
    "language_info": {
      "name": "python"
    },
    "gpuClass": "standard"
  },
  "cells": [
    {
      "cell_type": "code",
      "execution_count": null,
      "metadata": {
        "colab": {
          "base_uri": "https://localhost:8080/"
        },
        "id": "4kNm0VtwPgf2",
        "outputId": "f4a09f5b-f79e-45f4-dd87-68a8d5e90d31"
      },
      "outputs": [
        {
          "output_type": "stream",
          "name": "stdout",
          "text": [
            "\u001b[2K     \u001b[90m━━━━━━━━━━━━━━━━━━━━━━━━━━━━━━━━━━━━━━━\u001b[0m \u001b[32m235.9/235.9 kB\u001b[0m \u001b[31m5.5 MB/s\u001b[0m eta \u001b[36m0:00:00\u001b[0m\n",
            "\u001b[2K     \u001b[90m━━━━━━━━━━━━━━━━━━━━━━━━━━━━━━━━━━━━━━━━\u001b[0m \u001b[32m7.1/7.1 MB\u001b[0m \u001b[31m45.4 MB/s\u001b[0m eta \u001b[36m0:00:00\u001b[0m\n",
            "\u001b[2K     \u001b[90m━━━━━━━━━━━━━━━━━━━━━━━━━━━━━━━━━━━━━━\u001b[0m \u001b[32m224.5/224.5 kB\u001b[0m \u001b[31m17.0 MB/s\u001b[0m eta \u001b[36m0:00:00\u001b[0m\n",
            "\u001b[2K     \u001b[90m━━━━━━━━━━━━━━━━━━━━━━━━━━━━━━━━━━━━━━━━\u001b[0m \u001b[32m7.8/7.8 MB\u001b[0m \u001b[31m63.3 MB/s\u001b[0m eta \u001b[36m0:00:00\u001b[0m\n",
            "\u001b[?25h"
          ]
        }
      ],
      "source": [
        "!pip install -q --upgrade --no-cache-dir gdown\n",
        "!gdown -q 1CrCX8SNhMcmi3KogffFaS4pSaC0t73nJ #320\n",
        "! pip install -q unidecode\n",
        "! gdown -q 11Yb0QjyP2R3RvN1oSCX9m0DL2_bzDeZS # Parsivar\n",
        "! unzip -q ./Parsivar.zip\n",
        "!pip install -q transformers\n",
        "!unzip -q ./checkpoint-320.zip"
      ]
    },
    {
      "cell_type": "markdown",
      "source": [
        "# the class"
      ],
      "metadata": {
        "id": "Nwt1YBYVqcva"
      }
    },
    {
      "cell_type": "code",
      "source": [
        "! gdown 1OubKfFhLCVu-O43jfWyPQsZ4B2GNPM34"
      ],
      "metadata": {
        "colab": {
          "base_uri": "https://localhost:8080/"
        },
        "id": "K-mPQF5ykcmF",
        "outputId": "dee73653-9ec6-482e-b019-3fccb0c7ce9f"
      },
      "execution_count": null,
      "outputs": [
        {
          "output_type": "stream",
          "name": "stdout",
          "text": [
            "Downloading...\n",
            "From (uriginal): https://drive.google.com/uc?id=1OubKfFhLCVu-O43jfWyPQsZ4B2GNPM34\n",
            "From (redirected): https://drive.google.com/uc?id=1OubKfFhLCVu-O43jfWyPQsZ4B2GNPM34&confirm=t&uuid=4a247581-45b9-4d58-b9da-587bfb27c1e3\n",
            "To: /content/GE2PE.py\n",
            "\r  0% 0.00/5.72k [00:00<?, ?B/s]\r100% 5.72k/5.72k [00:00<00:00, 16.0MB/s]\n"
          ]
        }
      ]
    },
    {
      "cell_type": "code",
      "source": [
        "! sed -i 's+from collections import Iterable+from collections.abc import Iterable+g' /content/Parsivar/token_merger.py\n"
      ],
      "metadata": {
        "id": "VIRvJy8naB0f"
      },
      "execution_count": null,
      "outputs": []
    },
    {
      "cell_type": "code",
      "source": [
        "from GE2PE import GE2PE\n",
        "\n",
        "g2p = GE2PE()\n",
        "\n",
        "g2p.generate(['تست مدل تبدیل نویسه به واج', 'این کتابِ علی است'], use_rules=True)"
      ],
      "metadata": {
        "colab": {
          "base_uri": "https://localhost:8080/"
        },
        "id": "Qs-J5B3ykaYz",
        "outputId": "b8d948d0-8225-4d1b-b708-0d7aa69f08c3"
      },
      "execution_count": null,
      "outputs": [
        {
          "output_type": "execute_result",
          "data": {
            "text/plain": [
              "['teste modele t/bdile nevise be vaj', '@in ketabe @/li @/st']"
            ]
          },
          "metadata": {},
          "execution_count": 2
        }
      ]
    }
  ]
}